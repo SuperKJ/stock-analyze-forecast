{
 "cells": [
  {
   "cell_type": "code",
   "execution_count": 82,
   "id": "7518cf3d",
   "metadata": {},
   "outputs": [],
   "source": [
    "import plotly.express as px\n",
    "import plotly.graph_objects as go\n",
    "import pandas as pd\n",
    "import numpy as np\n",
    "import os\n",
    "import sys\n",
    "import json\n",
    "from plotly.subplots import make_subplots\n",
    "from datetime import datetime, timedelta\n",
    "from dateutil.relativedelta import relativedelta\n",
    "from datetime import date\n",
    "from ta.trend import MACD\n",
    "from ta.momentum import  RSIIndicator\n",
    "import yfinance as yf"
   ]
  },
  {
   "cell_type": "code",
   "execution_count": 83,
   "id": "1a6789a3",
   "metadata": {},
   "outputs": [],
   "source": [
    "import warnings\n",
    "warnings.filterwarnings(\"ignore\")"
   ]
  },
  {
   "cell_type": "code",
   "execution_count": 84,
   "id": "45d075a5",
   "metadata": {},
   "outputs": [],
   "source": [
    "def get_symbols():\n",
    "    \"\"\"\n",
    "    Get stock symbols from a file.\n",
    "    Returns:\n",
    "    list: List of stock symbols.\n",
    "    \"\"\"\n",
    "    path = r\"E:\\stock_price\\data\\NIFTY50_23April2025\\MW-NIFTY-50-23-Apr-2025.csv\"\n",
    "    data_NIFTY = pd.read_csv(path)\n",
    "    data_NIFTY.columns = data_NIFTY.columns.str.replace('\\n', '')\n",
    "    data_NIFTY.columns = data_NIFTY.columns.str.strip()\n",
    "    symbols = data_NIFTY['SYMBOL'].unique().tolist()\n",
    "    return symbols\n",
    "\n",
    "symbols = get_symbols()"
   ]
  },
  {
   "cell_type": "code",
   "execution_count": 85,
   "id": "674dd8ea",
   "metadata": {},
   "outputs": [
    {
     "data": {
      "text/plain": [
       "['NIFTY 50',\n",
       " 'ITC',\n",
       " 'HINDUNILVR',\n",
       " 'HDFCBANK',\n",
       " 'JIOFIN',\n",
       " 'M&M',\n",
       " 'TATACONSUM',\n",
       " 'BEL',\n",
       " 'KOTAKBANK',\n",
       " 'JSWSTEEL',\n",
       " 'ETERNAL',\n",
       " 'CIPLA',\n",
       " 'SBIN',\n",
       " 'NESTLEIND',\n",
       " 'ICICIBANK',\n",
       " 'HCLTECH',\n",
       " 'SUNPHARMA',\n",
       " 'TITAN',\n",
       " 'TATAMOTORS',\n",
       " 'ADANIENT',\n",
       " 'MARUTI',\n",
       " 'ULTRACEMCO',\n",
       " 'DRREDDY',\n",
       " 'TECHM',\n",
       " 'TCS',\n",
       " 'COALINDIA',\n",
       " 'EICHERMOT',\n",
       " 'BAJFINANCE',\n",
       " 'SHRIRAMFIN',\n",
       " 'HINDALCO',\n",
       " 'RELIANCE',\n",
       " 'HDFCLIFE',\n",
       " 'SBILIFE',\n",
       " 'AXISBANK',\n",
       " 'ASIANPAINT',\n",
       " 'GRASIM',\n",
       " 'ONGC',\n",
       " 'LT',\n",
       " 'TATASTEEL',\n",
       " 'TRENT',\n",
       " 'APOLLOHOSP',\n",
       " 'NTPC',\n",
       " 'ADANIPORTS',\n",
       " 'BAJAJ-AUTO',\n",
       " 'BAJAJFINSV',\n",
       " 'BHARTIARTL',\n",
       " 'WIPRO',\n",
       " 'INFY',\n",
       " 'HEROMOTOCO',\n",
       " 'POWERGRID',\n",
       " 'INDUSINDBK']"
      ]
     },
     "execution_count": 85,
     "metadata": {},
     "output_type": "execute_result"
    }
   ],
   "source": [
    "symbols"
   ]
  },
  {
   "cell_type": "code",
   "execution_count": 86,
   "id": "9b010048",
   "metadata": {},
   "outputs": [],
   "source": [
    "def get_stock_data(symbol : str, period = '1y', interval = '1d ', start=(datetime.now() - timedelta(days=364*2)).strftime('%Y-%m-%d'), end = datetime.now().strftime(\"%Y-%m-%d\") ):\n",
    "    \"\"\"\n",
    "    Fetch stock data from Yahoo Finance using yfinance library.\n",
    "    Parameters:\n",
    "    symbol (str): Stock symbol to fetch data for.\n",
    "    \"\"\"\n",
    "    symbol = symbol + \".NS\"\n",
    "    stock = yf.Ticker(symbol)\n",
    "    df = pd.DataFrame(stock.history(period=period, interval=interval, start=start, end=end))\n",
    "    return df"
   ]
  }
 ],
 "metadata": {
  "kernelspec": {
   "display_name": "Python 3",
   "language": "python",
   "name": "python3"
  },
  "language_info": {
   "name": "python",
   "version": "3.11.11"
  }
 },
 "nbformat": 4,
 "nbformat_minor": 5
}
